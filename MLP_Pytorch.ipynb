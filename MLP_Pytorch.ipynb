{
  "nbformat": 4,
  "nbformat_minor": 0,
  "metadata": {
    "colab": {
      "provenance": [],
      "authorship_tag": "ABX9TyPZ+Pac/MfcoFua1lAcWjKX",
      "include_colab_link": true
    },
    "kernelspec": {
      "name": "python3",
      "display_name": "Python 3"
    },
    "language_info": {
      "name": "python"
    }
  },
  "cells": [
    {
      "cell_type": "markdown",
      "metadata": {
        "id": "view-in-github",
        "colab_type": "text"
      },
      "source": [
        "<a href=\"https://colab.research.google.com/github/HuanAII/MLPforMNIST_classification/blob/main/MLP_Pytorch.ipynb\" target=\"_parent\"><img src=\"https://colab.research.google.com/assets/colab-badge.svg\" alt=\"Open In Colab\"/></a>"
      ]
    },
    {
      "cell_type": "markdown",
      "source": [
        "# **Import Libraries Pytorch For MNIST Classification**"
      ],
      "metadata": {
        "id": "_u2RuczEDAzT"
      }
    },
    {
      "cell_type": "code",
      "source": [
        "import torch\n",
        "import torch.nn as nn\n",
        "import torch.optim as optim\n",
        "from torchvision import datasets , transforms\n",
        "from torch.utils.data import DataLoader"
      ],
      "metadata": {
        "id": "q1y7fwDGDIBj"
      },
      "execution_count": 13,
      "outputs": []
    },
    {
      "cell_type": "code",
      "source": [],
      "metadata": {
        "id": "Wh78wKfSDIR-"
      },
      "execution_count": 13,
      "outputs": []
    },
    {
      "cell_type": "markdown",
      "source": [
        "# **Load dataset**"
      ],
      "metadata": {
        "id": "cl2akAK7DMNN"
      }
    },
    {
      "cell_type": "code",
      "source": [
        "transform = transforms.Compose([\n",
        "    transforms.ToTensor(),\n",
        "    transforms.Normalize((0.1307,), (0.3081,))\n",
        "])"
      ],
      "metadata": {
        "id": "KhKN8CTkDmSQ"
      },
      "execution_count": 14,
      "outputs": []
    },
    {
      "cell_type": "code",
      "source": [
        "train_dataset = datasets.MNIST(train = True , download= True , root= './data' , transform= transform)\n",
        "test_dataset = datasets.MNIST(train = False , download= True , root= './data' , transform= transform)"
      ],
      "metadata": {
        "id": "atIcODNiDIU0"
      },
      "execution_count": 15,
      "outputs": []
    },
    {
      "cell_type": "code",
      "source": [
        "# hyperparameter\n",
        "input_size = 784\n",
        "hidden_size = 128\n",
        "output_size = 10\n",
        "batch_size = 64\n",
        "learning_rate = 0.1\n",
        "\n",
        "train_loader = DataLoader(dataset=train_dataset, batch_size=batch_size, shuffle=True)\n",
        "test_loader  = DataLoader(dataset=test_dataset, batch_size=batch_size, shuffle=False)"
      ],
      "metadata": {
        "id": "OjwBJmfgDIW9"
      },
      "execution_count": 16,
      "outputs": []
    },
    {
      "cell_type": "code",
      "source": [],
      "metadata": {
        "id": "M03OaYLcEJpG"
      },
      "execution_count": 16,
      "outputs": []
    },
    {
      "cell_type": "markdown",
      "source": [
        "# **Define MLP Model**"
      ],
      "metadata": {
        "id": "EZawa7v7ELck"
      }
    },
    {
      "cell_type": "code",
      "source": [
        "class MLP(nn.Module):\n",
        "    def __init__(self, input_size, hidden_size, output_size):\n",
        "        super(MLP, self).__init__()\n",
        "        self.model = nn.Sequential(\n",
        "            nn.Linear(input_size, hidden_size),\n",
        "            nn.ReLU(),\n",
        "            nn.Linear(hidden_size, output_size)\n",
        "        )\n",
        "\n",
        "    def forward(self, x):\n",
        "        return self.model(x)\n",
        "\n",
        "model = MLP(input_size , hidden_size , output_size)\n"
      ],
      "metadata": {
        "id": "pzDOnB5rESnC"
      },
      "execution_count": 17,
      "outputs": []
    },
    {
      "cell_type": "markdown",
      "source": [
        "# **Loss and Optimizer**"
      ],
      "metadata": {
        "id": "-5n03Z4JFYSC"
      }
    },
    {
      "cell_type": "code",
      "source": [
        "criterion = nn.CrossEntropyLoss()\n",
        "optimizer = optim.SGD(model.parameters(), lr=learning_rate)"
      ],
      "metadata": {
        "id": "pxZf2ycpESpp"
      },
      "execution_count": 18,
      "outputs": []
    },
    {
      "cell_type": "code",
      "source": [],
      "metadata": {
        "id": "d_Ailx3vESsP"
      },
      "execution_count": 18,
      "outputs": []
    },
    {
      "cell_type": "markdown",
      "source": [
        "# **Training**"
      ],
      "metadata": {
        "id": "9Zm0PgXuPw3n"
      }
    },
    {
      "cell_type": "code",
      "source": [
        "num_epochs = 30\n",
        "for epoch in range(num_epochs):\n",
        "    for batch_idx, (data, targets) in enumerate(train_loader):\n",
        "        # Flatten the images\n",
        "        data = data.view(data.size(0), -1)\n",
        "\n",
        "        # Forward pass\n",
        "        scores = model(data)\n",
        "        loss = criterion(scores, targets)\n",
        "\n",
        "        # Backward pass\n",
        "        optimizer.zero_grad()\n",
        "        loss.backward()\n",
        "        optimizer.step()\n",
        "\n",
        "    print(f\"Epoch [{epoch+1}/{num_epochs}], Loss: {loss.item():.4f}\")\n",
        "\n",
        "# ======= Evaluation ========\n",
        "def check_accuracy(loader, model):\n",
        "    correct = 0\n",
        "    total = 0\n",
        "    model.eval()\n",
        "    with torch.no_grad():\n",
        "        for data, targets in loader:\n",
        "            data = data.view(data.size(0), -1)\n",
        "            scores = model(data)\n",
        "            _, predictions = scores.max(1)\n",
        "            correct += (predictions == targets).sum().item()\n",
        "            total += targets.size(0)\n",
        "    acc = 100 * correct / total\n",
        "    print(f'Accuracy: {acc:.2f}%')\n",
        "    model.train()\n",
        "\n",
        "check_accuracy(train_loader, model)\n",
        "check_accuracy(test_loader, model)"
      ],
      "metadata": {
        "colab": {
          "base_uri": "https://localhost:8080/"
        },
        "id": "1LBpnCF0P3DQ",
        "outputId": "b092a893-cfa4-4dcf-9cad-bb720e458349"
      },
      "execution_count": 21,
      "outputs": [
        {
          "output_type": "stream",
          "name": "stdout",
          "text": [
            "Epoch [1/30], Loss: 0.1094\n",
            "Epoch [2/30], Loss: 0.1900\n",
            "Epoch [3/30], Loss: 0.0126\n",
            "Epoch [4/30], Loss: 0.0701\n",
            "Epoch [5/30], Loss: 0.0478\n",
            "Epoch [6/30], Loss: 0.0982\n",
            "Epoch [7/30], Loss: 0.1196\n",
            "Epoch [8/30], Loss: 0.0159\n",
            "Epoch [9/30], Loss: 0.0058\n",
            "Epoch [10/30], Loss: 0.0031\n",
            "Epoch [11/30], Loss: 0.0051\n",
            "Epoch [12/30], Loss: 0.0866\n",
            "Epoch [13/30], Loss: 0.0061\n",
            "Epoch [14/30], Loss: 0.0027\n",
            "Epoch [15/30], Loss: 0.0020\n",
            "Epoch [16/30], Loss: 0.0037\n",
            "Epoch [17/30], Loss: 0.0016\n",
            "Epoch [18/30], Loss: 0.0065\n",
            "Epoch [19/30], Loss: 0.0004\n",
            "Epoch [20/30], Loss: 0.0004\n",
            "Epoch [21/30], Loss: 0.0004\n",
            "Epoch [22/30], Loss: 0.0003\n",
            "Epoch [23/30], Loss: 0.0025\n",
            "Epoch [24/30], Loss: 0.0020\n",
            "Epoch [25/30], Loss: 0.0031\n",
            "Epoch [26/30], Loss: 0.0009\n",
            "Epoch [27/30], Loss: 0.0031\n",
            "Epoch [28/30], Loss: 0.0007\n",
            "Epoch [29/30], Loss: 0.0005\n",
            "Epoch [30/30], Loss: 0.0021\n",
            "Accuracy: 100.00%\n",
            "Accuracy: 98.18%\n"
          ]
        }
      ]
    },
    {
      "cell_type": "code",
      "source": [
        "torch.save(model.state_dict(), \"mlp_mnist.pt\")"
      ],
      "metadata": {
        "id": "PfDTgKMoXE_w"
      },
      "execution_count": 22,
      "outputs": []
    }
  ]
}